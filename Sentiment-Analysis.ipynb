{
 "cells": [
  {
   "cell_type": "markdown",
   "id": "971ec57f-6f2e-4f52-8949-061287de0e82",
   "metadata": {},
   "source": [
    "# Sentiment Analysis on IMDb Movie Reviews"
   ]
  },
  {
   "cell_type": "code",
   "execution_count": 1,
   "id": "0512fc18-02ea-42e8-b01c-399036cac3a8",
   "metadata": {},
   "outputs": [],
   "source": [
    "import numpy as np\n",
    "import pandas as pd\n",
    "import matplotlib.pyplot as plt"
   ]
  },
  {
   "cell_type": "code",
   "execution_count": 2,
   "id": "60106a94-8867-4fed-83f7-23c2a93bac91",
   "metadata": {},
   "outputs": [
    {
     "data": {
      "text/html": [
       "<div>\n",
       "<style scoped>\n",
       "    .dataframe tbody tr th:only-of-type {\n",
       "        vertical-align: middle;\n",
       "    }\n",
       "\n",
       "    .dataframe tbody tr th {\n",
       "        vertical-align: top;\n",
       "    }\n",
       "\n",
       "    .dataframe thead th {\n",
       "        text-align: right;\n",
       "    }\n",
       "</style>\n",
       "<table border=\"1\" class=\"dataframe\">\n",
       "  <thead>\n",
       "    <tr style=\"text-align: right;\">\n",
       "      <th></th>\n",
       "      <th>review</th>\n",
       "      <th>sentiment</th>\n",
       "    </tr>\n",
       "  </thead>\n",
       "  <tbody>\n",
       "    <tr>\n",
       "      <th>0</th>\n",
       "      <td>One of the other reviewers has mentioned that ...</td>\n",
       "      <td>positive</td>\n",
       "    </tr>\n",
       "    <tr>\n",
       "      <th>1</th>\n",
       "      <td>A wonderful little production. &lt;br /&gt;&lt;br /&gt;The...</td>\n",
       "      <td>positive</td>\n",
       "    </tr>\n",
       "    <tr>\n",
       "      <th>2</th>\n",
       "      <td>I thought this was a wonderful way to spend ti...</td>\n",
       "      <td>positive</td>\n",
       "    </tr>\n",
       "    <tr>\n",
       "      <th>3</th>\n",
       "      <td>Basically there's a family where a little boy ...</td>\n",
       "      <td>negative</td>\n",
       "    </tr>\n",
       "    <tr>\n",
       "      <th>4</th>\n",
       "      <td>Petter Mattei's \"Love in the Time of Money\" is...</td>\n",
       "      <td>positive</td>\n",
       "    </tr>\n",
       "  </tbody>\n",
       "</table>\n",
       "</div>"
      ],
      "text/plain": [
       "                                              review sentiment\n",
       "0  One of the other reviewers has mentioned that ...  positive\n",
       "1  A wonderful little production. <br /><br />The...  positive\n",
       "2  I thought this was a wonderful way to spend ti...  positive\n",
       "3  Basically there's a family where a little boy ...  negative\n",
       "4  Petter Mattei's \"Love in the Time of Money\" is...  positive"
      ]
     },
     "execution_count": 2,
     "metadata": {},
     "output_type": "execute_result"
    }
   ],
   "source": [
    "data = pd.read_csv('IMDB Dataset.csv')\n",
    "\n",
    "data.head()"
   ]
  },
  {
   "cell_type": "markdown",
   "id": "a8d84e70-0cf7-47c6-8847-940ce81de70d",
   "metadata": {},
   "source": [
    "**Description of Data**"
   ]
  },
  {
   "cell_type": "code",
   "execution_count": 3,
   "id": "2e8e4964-5272-4407-9d47-90cb4956dad9",
   "metadata": {},
   "outputs": [
    {
     "data": {
      "text/html": [
       "<div>\n",
       "<style scoped>\n",
       "    .dataframe tbody tr th:only-of-type {\n",
       "        vertical-align: middle;\n",
       "    }\n",
       "\n",
       "    .dataframe tbody tr th {\n",
       "        vertical-align: top;\n",
       "    }\n",
       "\n",
       "    .dataframe thead th {\n",
       "        text-align: right;\n",
       "    }\n",
       "</style>\n",
       "<table border=\"1\" class=\"dataframe\">\n",
       "  <thead>\n",
       "    <tr style=\"text-align: right;\">\n",
       "      <th></th>\n",
       "      <th>review</th>\n",
       "      <th>sentiment</th>\n",
       "    </tr>\n",
       "  </thead>\n",
       "  <tbody>\n",
       "    <tr>\n",
       "      <th>count</th>\n",
       "      <td>50000</td>\n",
       "      <td>50000</td>\n",
       "    </tr>\n",
       "    <tr>\n",
       "      <th>unique</th>\n",
       "      <td>49581</td>\n",
       "      <td>2</td>\n",
       "    </tr>\n",
       "    <tr>\n",
       "      <th>top</th>\n",
       "      <td>Loved today's show!!! It was a variety and not...</td>\n",
       "      <td>positive</td>\n",
       "    </tr>\n",
       "    <tr>\n",
       "      <th>freq</th>\n",
       "      <td>5</td>\n",
       "      <td>25000</td>\n",
       "    </tr>\n",
       "  </tbody>\n",
       "</table>\n",
       "</div>"
      ],
      "text/plain": [
       "                                                   review sentiment\n",
       "count                                               50000     50000\n",
       "unique                                              49581         2\n",
       "top     Loved today's show!!! It was a variety and not...  positive\n",
       "freq                                                    5     25000"
      ]
     },
     "execution_count": 3,
     "metadata": {},
     "output_type": "execute_result"
    }
   ],
   "source": [
    "data.describe()"
   ]
  },
  {
   "cell_type": "code",
   "execution_count": 4,
   "id": "dc0bd077-a600-4cba-b9ba-993241ce27f5",
   "metadata": {},
   "outputs": [
    {
     "data": {
      "image/png": "[encoded data removed]",
      "text/plain": [
       "<Figure size 432x288 with 1 Axes>"
      ]
     },
     "metadata": {
      "needs_background": "light"
     },
     "output_type": "display_data"
    }
   ],
   "source": [
    "sentiments = data['sentiment'].value_counts()\n",
    "\n",
    "bar = plt.bar(sentiments.index, sentiments)"
   ]
  },
  {
   "cell_type": "markdown",
   "id": "d9b46066-af61-4268-a071-f5ef13328ed4",
   "metadata": {
    "tags": []
   },
   "source": [
    "## Data Preprocessing"
   ]
  },
  {
   "cell_type": "markdown",
   "id": "87df64a2-bfb2-4d2f-aa13-90dca3d1cc61",
   "metadata": {},
   "source": [
    "**Removing duplicate reviews.**"
   ]
  },
  {
   "cell_type": "code",
   "execution_count": 5,
   "id": "9c4990d0-41bd-4b50-a2f5-60293c889e67",
   "metadata": {},
   "outputs": [
    {
     "data": {
      "text/plain": [
       "(49581, 2)"
      ]
     },
     "execution_count": 5,
     "metadata": {},
     "output_type": "execute_result"
    }
   ],
   "source": [
    "data.drop_duplicates(inplace=True, ignore_index=True)\n",
    "\n",
    "data.shape"
   ]
  },
  {
   "cell_type": "markdown",
   "id": "4bd03c24-bafc-4221-8cd9-f601b44bb49b",
   "metadata": {},
   "source": [
    "**Checking for any missing values.**"
   ]
  },
  {
   "cell_type": "code",
   "execution_count": 6,
   "id": "6b3f6311-54fc-4bbf-b261-c6af9797eb62",
   "metadata": {},
   "outputs": [
    {
     "data": {
      "text/plain": [
       "review       0\n",
       "sentiment    0\n",
       "dtype: int64"
      ]
     },
     "execution_count": 6,
     "metadata": {},
     "output_type": "execute_result"
    }
   ],
   "source": [
    "data.isnull().sum()"
   ]
  },
  {
   "cell_type": "markdown",
   "id": "d5347999-8eb2-4eee-8f2b-edfb39517afc",
   "metadata": {},
   "source": [
    "**Segregating reviews and its sentiments.**"
   ]
  },
  {
   "cell_type": "code",
   "execution_count": 7,
   "id": "5136607e-ea47-4161-8d2f-3bedd6b5f6ed",
   "metadata": {},
   "outputs": [],
   "source": [
    "X = data['review'].values\n",
    "y = data['sentiment'].values\n",
    "\n",
    "y = np.where(y == 'positive', 1, 0)"
   ]
  },
  {
   "cell_type": "markdown",
   "id": "b2182a45-e792-47ec-8292-b7bdbe0fbec1",
   "metadata": {
    "jp-MarkdownHeadingCollapsed": true,
    "tags": []
   },
   "source": [
    "### Data Cleaning"
   ]
  },
  {
   "cell_type": "markdown",
   "id": "4f67bcd0-574a-4f78-9ea6-81c9d7cd7548",
   "metadata": {},
   "source": [
    "**Removing HTML tags and special characters from reviews.**"
   ]
  },
  {
   "cell_type": "code",
   "execution_count": 8,
   "id": "808f84de-969d-4fdd-9789-f80d1f696585",
   "metadata": {},
   "outputs": [],
   "source": [
    "from bs4 import BeautifulSoup\n",
    "import re"
   ]
  },
  {
   "cell_type": "code",
   "execution_count": 9,
   "id": "8d80d61f-b51f-41cd-bb3c-22f3857a35b3",
   "metadata": {},
   "outputs": [],
   "source": [
    "def remove_special_characters(text):\n",
    "    text = text.lower()\n",
    "\n",
    "    soup = BeautifulSoup(text, 'html.parser')\n",
    "    text = soup.get_text()\n",
    "\n",
    "    pattern = r'[^a-zA-z\\s]'\n",
    "    text = re.sub(pattern, '', text)\n",
    "\n",
    "    return text"
   ]
  },
  {
   "cell_type": "code",
   "execution_count": 10,
   "id": "18a72d76-30bf-4ae0-b777-ea73307f95f1",
   "metadata": {},
   "outputs": [],
   "source": [
    "for index in range(len(X)):\n",
    "    X[index] = remove_special_characters(X[index])"
   ]
  },
  {
   "cell_type": "markdown",
   "id": "cdf59ca9-97ea-414f-94db-4833db174dc4",
   "metadata": {},
   "source": [
    "**Removing stopwords and stemming the documents after tokenization.**"
   ]
  },
  {
   "cell_type": "code",
   "execution_count": 11,
   "id": "f5daaaa8-7a99-4773-960e-8097edfef79d",
   "metadata": {},
   "outputs": [
    {
     "name": "stderr",
     "output_type": "stream",
     "text": [
      "[nltk_data] Downloading package stopwords to\n",
      "[nltk_data]     C:\\Users\\imshi\\AppData\\Roaming\\nltk_data...\n",
      "[nltk_data]   Package stopwords is already up-to-date!\n",
      "[nltk_data] Downloading package punkt to\n",
      "[nltk_data]     C:\\Users\\imshi\\AppData\\Roaming\\nltk_data...\n",
      "[nltk_data]   Package punkt is already up-to-date!\n"
     ]
    }
   ],
   "source": [
    "import nltk\n",
    "nltk.download('stopwords')\n",
    "nltk.download('punkt')\n",
    "\n",
    "from nltk.corpus import stopwords\n",
    "from nltk.stem.porter import PorterStemmer\n",
    "from nltk.tokenize import word_tokenize"
   ]
  },
  {
   "cell_type": "code",
   "execution_count": 12,
   "id": "67e6619a-6662-4791-8917-177e30d2d269",
   "metadata": {},
   "outputs": [],
   "source": [
    "english_stopwords = set(stopwords.words('english'))\n",
    "ps = PorterStemmer()"
   ]
  },
  {
   "cell_type": "code",
   "execution_count": 13,
   "id": "14dc165c-a575-42cd-bec6-53a46cb8cee7",
   "metadata": {},
   "outputs": [],
   "source": [
    "def get_clean_docs(text):\n",
    "    # tokenizing each review and removing stopwords from them\n",
    "    tokens = word_tokenize(text)\n",
    "    clean_tokens = [token for token in tokens if token not in english_stopwords]\n",
    "\n",
    "    # stemming the clean tokens\n",
    "    stemmed_tokens = [ps.stem(token) for token in clean_tokens]\n",
    "\n",
    "    return stemmed_tokens"
   ]
  },
  {
   "cell_type": "code",
   "execution_count": 14,
   "id": "156b7769-ccf9-4077-8904-571748aa230c",
   "metadata": {},
   "outputs": [],
   "source": [
    "for index in range(len(X)):\n",
    "    X[index] = get_clean_docs(X[index])"
   ]
  },
  {
   "cell_type": "markdown",
   "id": "0314f635-5069-4aac-a80d-099fde0bb737",
   "metadata": {
    "jp-MarkdownHeadingCollapsed": true,
    "tags": []
   },
   "source": [
    "### Splitting training and testing samples."
   ]
  },
  {
   "cell_type": "code",
   "execution_count": 8,
   "id": "001a1eb7-24fd-4f40-a21d-d0799879728d",
   "metadata": {},
   "outputs": [],
   "source": [
    "from sklearn.model_selection import train_test_split\n",
    "\n",
    "X_train, X_test, y_train, y_test = train_test_split(X, y, test_size=0.3, random_state=100)"
   ]
  },
  {
   "cell_type": "markdown",
   "id": "eb726d9b-d2c4-49b4-a71a-eaf901944da1",
   "metadata": {
    "jp-MarkdownHeadingCollapsed": true,
    "tags": []
   },
   "source": [
    "## Vectorization: Word Embedding"
   ]
  },
  {
   "cell_type": "markdown",
   "id": "45299cfe-9fee-4c64-b0f7-4ae31454585c",
   "metadata": {},
   "source": [
    "The size of the vector is kept as 500. Different sizes has been tested before choosing this value. The factors for deciding the value: accuracy of model, space and time required to run the code."
   ]
  },
  {
   "cell_type": "code",
   "execution_count": 16,
   "id": "4d997a26-ef1b-4d48-8412-78add84dea29",
   "metadata": {},
   "outputs": [],
   "source": [
    "from gensim.models import Word2Vec\n",
    "\n",
    "vector_model_file = 'assets/word2vec_500.model'\n",
    "\n",
    "vec_model = Word2Vec(X, min_count=1, size=500, workers=3, window=3, sg=0)\n",
    "vec_model.save(vector_model_file)"
   ]
  },
  {
   "cell_type": "markdown",
   "id": "64e71b71-144d-4f84-a9bc-2ebca642fecc",
   "metadata": {},
   "source": [
    "**Vectorizing training samples.**"
   ]
  },
  {
   "cell_type": "code",
   "execution_count": 17,
   "id": "f90bc4bd-4656-468d-abdf-5d9fd67a86e2",
   "metadata": {},
   "outputs": [],
   "source": [
    "train_vector_file = 'assets/train_vector.csv'"
   ]
  },
  {
   "cell_type": "code",
   "execution_count": 18,
   "id": "2cd4485c-3436-4d29-a994-af1a6c998749",
   "metadata": {},
   "outputs": [],
   "source": [
    "vec_model = Word2Vec.load('assets/word2vec_500.model')\n",
    "\n",
    "with open(train_vector_file, 'w+') as f:\n",
    "    for index, tokens in enumerate(X_train):\n",
    "        model_vector = (np.mean([vec_model.wv.__getitem__(token) for token in tokens], axis=0)).tolist()\n",
    "\n",
    "        if index == 0:\n",
    "            header = ','.join(str(num) for num in range(500))\n",
    "            f.write(header)\n",
    "            f.write('\\n')\n",
    "\n",
    "        if type(model_vector) is list:\n",
    "            line = ','.join([str(vector_element) for vector_element in model_vector])\n",
    "        else:\n",
    "            line = ','.join([str(0) for _ in range(500)])\n",
    "\n",
    "        f.write(line)\n",
    "        f.write('\\n')"
   ]
  },
  {
   "cell_type": "markdown",
   "id": "d044ff9a-372f-457e-8272-12eff4497c7c",
   "metadata": {},
   "source": [
    "**Vectorizing test samples.**"
   ]
  },
  {
   "cell_type": "code",
   "execution_count": 19,
   "id": "81b5eaf6-8988-431c-ad74-babdfecae8ae",
   "metadata": {},
   "outputs": [],
   "source": [
    "test_vector_file = 'assets/test_vector.csv'"
   ]
  },
  {
   "cell_type": "code",
   "execution_count": 20,
   "id": "679b129e-d641-4c93-93a0-0b4dbf15aa3b",
   "metadata": {},
   "outputs": [],
   "source": [
    "with open(test_vector_file, 'w+') as f:\n",
    "    for index, tokens in enumerate(X_test):\n",
    "        model_vector = (np.mean([vec_model.wv.__getitem__(token) for token in tokens], axis=0)).tolist()\n",
    "\n",
    "        if index == 0:\n",
    "            header = ','.join(str(num) for num in range(500))\n",
    "            f.write(header)\n",
    "            f.write('\\n')\n",
    "\n",
    "        if type(model_vector) is list:\n",
    "            line = ','.join([str(vector_element) for vector_element in model_vector])\n",
    "        else:\n",
    "            line = ','.join([str(0) for _ in range(500)])\n",
    "\n",
    "        f.write(line)\n",
    "        f.write('\\n')"
   ]
  },
  {
   "cell_type": "markdown",
   "id": "f63451f9-62f1-4ce4-9e0b-0e45e1fec297",
   "metadata": {},
   "source": [
    "## Classification Model"
   ]
  },
  {
   "cell_type": "code",
   "execution_count": 9,
   "id": "9192bd20-6127-47c8-bd2d-40d16483a36b",
   "metadata": {},
   "outputs": [],
   "source": [
    "X_train_vec = pd.read_csv('assets/train_vector.csv').to_numpy()\n",
    "X_test_vec = pd.read_csv('assets/test_vector.csv').to_numpy()"
   ]
  },
  {
   "cell_type": "markdown",
   "id": "a0dfa4aa-5256-415e-b881-25b050674ab2",
   "metadata": {},
   "source": [
    "Each review is represented in the form of vector. Vector for the first review is shown below."
   ]
  },
  {
   "cell_type": "code",
   "execution_count": 10,
   "id": "03ef804d-f515-47a0-8309-b27195d76038",
   "metadata": {},
   "outputs": [
    {
     "name": "stdout",
     "output_type": "stream",
     "text": [
      "[-3.40510830e-02 -2.91176382e-02 -6.79341108e-02 -9.64727812e-03\n",
      "  2.38459513e-01  6.94403425e-02 -1.10823788e-01  4.74482894e-01\n",
      "  2.88223714e-01 -4.07446563e-01  3.53135029e-03  2.50592589e-01\n",
      " -1.77818313e-01 -1.60988271e-01 -2.04619750e-01  4.49727811e-02\n",
      " -4.48829651e-01 -2.49349549e-01  2.84367114e-01 -5.64782359e-02\n",
      "  1.14819534e-01  2.78499752e-01  1.00064173e-01 -2.50650197e-01\n",
      " -1.74350813e-01 -1.27368793e-01 -2.97449213e-02 -2.63800234e-01\n",
      "  1.97774112e-01  1.71895176e-02  1.36392206e-01  2.43351802e-01\n",
      " -8.38586390e-02 -4.87170592e-02  3.29676829e-02  3.62103373e-01\n",
      " -3.22424740e-01 -8.68681371e-02  2.16373026e-01  1.37712210e-01\n",
      " -1.85590237e-01 -9.10326093e-02  4.74748164e-01 -2.86275536e-01\n",
      "  1.88133001e-01  2.91677535e-01 -2.51563936e-01  6.63617179e-02\n",
      "  3.19098800e-01  2.71147341e-01  4.12615109e-03  1.64832198e-03\n",
      " -1.59191974e-02  4.47655559e-01 -1.53400138e-01 -8.83178934e-02\n",
      "  1.31227717e-01  4.50723339e-03  6.55383840e-02  2.66768318e-02\n",
      " -1.06446892e-01 -4.11911666e-01  1.13562264e-01  3.60855579e-01\n",
      " -1.04958430e-01 -8.23032260e-02 -3.14958006e-01 -6.06942415e-01\n",
      "  9.85190570e-02 -9.36225206e-02 -8.20789784e-02 -2.36944288e-01\n",
      "  1.01494640e-01  1.79582670e-01 -2.03769967e-01 -9.44151953e-02\n",
      "  3.05513898e-03 -5.25444523e-02  2.87517846e-01 -2.11358611e-02\n",
      "  2.49668255e-01 -2.29554042e-01  1.67578593e-01 -2.39329517e-01\n",
      "  6.49271831e-02  3.96113470e-02  1.81599319e-01 -1.08589925e-01\n",
      " -1.44063145e-01 -4.34458703e-01 -1.02095395e-01 -8.86759162e-02\n",
      " -6.76846564e-01 -1.59468979e-01  1.29550099e-01  6.99217394e-02\n",
      "  4.11248147e-01  1.99392930e-01 -1.32878408e-01 -2.26780653e-01\n",
      " -7.38069937e-02 -3.48297775e-01  2.90843904e-01 -4.71332446e-02\n",
      " -1.69150025e-01 -1.13542147e-01  1.67240005e-03 -8.68814290e-02\n",
      "  1.07046321e-01 -2.64529467e-01  1.18922696e-01 -1.08919345e-01\n",
      " -7.07907453e-02  4.17331755e-02 -1.16022818e-01  5.55327814e-03\n",
      " -1.32725596e-01  3.81888896e-02  2.88791358e-01  1.02529801e-01\n",
      " -1.83038175e-01 -1.21176049e-01 -5.79598127e-03 -7.01902583e-02\n",
      "  3.70211937e-02 -5.13025582e-01  2.78304458e-01  9.07305256e-02\n",
      "  1.46875799e-01  1.34930819e-01  4.55187231e-01  3.97827297e-01\n",
      "  1.48633391e-01 -3.70051146e-01  4.66898121e-02 -2.21102521e-01\n",
      "  6.62866309e-02  1.03539899e-01 -1.34545326e-01  1.71773046e-01\n",
      " -4.18379270e-02  1.80213541e-01  7.95395672e-02 -4.06209789e-02\n",
      "  9.21844468e-02  4.49238345e-02  8.24467391e-02  7.28456527e-02\n",
      " -8.32410380e-02 -1.73528999e-01  4.61345818e-03  4.03902203e-01\n",
      " -9.07166824e-02  3.73877436e-01 -2.82394215e-02 -2.97983557e-01\n",
      "  1.44679427e-01 -1.30629674e-01  3.48750055e-01 -1.44943595e-01\n",
      "  1.12949936e-02 -1.74571261e-01  1.60275683e-01 -2.70175248e-01\n",
      " -2.03765422e-01 -4.29663956e-02  4.18698154e-02  2.40756422e-02\n",
      "  5.31665012e-02  4.35731262e-01 -3.78733277e-01 -1.94071844e-01\n",
      "  3.85070331e-02  2.67793149e-01  1.68320566e-01 -2.22323183e-02\n",
      "  1.34775877e-01 -1.85661882e-01 -2.62552261e-01  3.90933216e-01\n",
      " -2.77047545e-01  6.48782179e-02 -2.02638194e-01 -2.10308358e-02\n",
      "  7.11099431e-02 -1.41747698e-01 -2.55740851e-01 -3.76509845e-01\n",
      " -8.68821889e-02 -2.22576186e-01 -2.44749203e-01 -7.37865716e-02\n",
      " -8.01903754e-03 -7.08783865e-02  2.66974896e-01  2.28020355e-01\n",
      " -1.80564210e-01 -2.16573313e-01  4.80689555e-02 -2.59844959e-01\n",
      "  3.03789139e-01  1.83167443e-01 -1.24003626e-01  5.89247644e-01\n",
      "  2.58038610e-01  2.40596518e-01 -8.80634338e-02  4.02289145e-02\n",
      "  3.97787005e-01  1.66015819e-01 -4.95595373e-02  3.41014341e-02\n",
      " -9.39044505e-02 -2.08352402e-01  1.49345085e-01  3.37982595e-01\n",
      " -3.64959002e-01  5.73125705e-02 -1.57805517e-01  2.14243427e-01\n",
      "  6.26789555e-02  2.26496711e-01  4.37388979e-02 -3.30086738e-01\n",
      " -4.18701828e-01 -7.17192590e-02  1.01770461e-01  3.14684331e-01\n",
      "  2.06634089e-01  2.06089560e-02 -2.29373593e-02 -5.05915061e-02\n",
      "  2.26027176e-01 -3.26637715e-01  1.34000123e-01 -9.92814302e-02\n",
      "  1.93509147e-01 -1.65065110e-01 -4.51224670e-02  1.73347801e-01\n",
      " -2.22585827e-01  1.05792902e-01 -1.35180846e-01 -1.07050259e-02\n",
      " -1.73694402e-01  4.64520276e-01  2.53923953e-01  2.84450889e-01\n",
      " -2.42982537e-01 -2.05465574e-02  3.39475214e-01 -2.71797419e-01\n",
      "  2.61460781e-01 -3.57896164e-02  1.09598055e-01  1.78740829e-01\n",
      "  2.98621774e-01  2.73132384e-01  4.81083170e-02  1.69369113e-02\n",
      " -2.01723903e-01  1.75149456e-01 -1.25998303e-01 -1.83680207e-02\n",
      "  2.45396197e-02  4.37152497e-02  3.47161114e-01  2.00377807e-01\n",
      "  3.43809783e-01 -1.34173751e-01  6.91067427e-02 -2.07780655e-02\n",
      " -1.38626352e-01  1.64775178e-01 -3.13076526e-01  1.05831169e-01\n",
      " -6.10568941e-01  2.72749841e-01  1.38918862e-01 -2.31867895e-01\n",
      " -9.91018564e-02 -3.27616394e-01  2.23745421e-01 -1.28510892e-01\n",
      "  1.14472412e-01 -1.43734599e-03  8.80204514e-02  2.57681925e-02\n",
      "  1.75924413e-02 -5.58421239e-02 -5.80256581e-02  2.01604754e-01\n",
      " -3.13952744e-01  1.43697411e-02  1.69907548e-02  4.82626520e-02\n",
      "  1.61123276e-01 -2.22554076e-02 -2.97043890e-01 -1.38098493e-01\n",
      "  1.33854061e-01  1.20051369e-01  1.83668640e-02  4.34387960e-02\n",
      " -1.01194292e-01 -3.67680907e-01  1.35155231e-01 -2.57446021e-01\n",
      " -4.63159420e-02 -1.32347763e-01  1.54412687e-01  2.43041679e-01\n",
      "  6.12749830e-02  2.02048585e-01 -1.02095671e-01 -6.47205673e-03\n",
      "  1.26020446e-01 -1.32176802e-01  2.37987921e-01  3.10223311e-01\n",
      "  1.88486740e-01  2.83425361e-01 -1.44599741e-02  1.51202351e-01\n",
      "  9.10035986e-03  3.41190323e-02  2.62630850e-01  1.65928695e-02\n",
      " -2.00061705e-02  1.39670715e-01 -2.20969334e-01 -1.13190962e-02\n",
      "  3.39071937e-02  2.61863410e-01 -1.74978167e-01 -5.91166988e-02\n",
      " -7.57087991e-02  1.15718745e-01  1.01563893e-01  3.28551859e-01\n",
      " -1.26544982e-01 -2.76209489e-02  1.27824573e-02  1.58728570e-01\n",
      " -1.39054032e-02 -3.47406082e-02 -2.94899702e-01 -4.73109856e-02\n",
      " -3.10298502e-02 -1.92114875e-01 -3.85405160e-02  2.01956421e-01\n",
      "  8.90672877e-02 -2.64968604e-01  4.41795945e-01 -1.14771299e-01\n",
      " -1.33585155e-01 -1.36793837e-01  1.04666725e-01  2.19607353e-02\n",
      "  2.76478320e-01  1.33143784e-03  3.01746309e-01  3.50282609e-01\n",
      "  1.61168694e-01 -4.06272598e-02 -4.00619000e-01 -6.34381995e-02\n",
      "  9.24882963e-02 -1.48040533e-01  6.54174089e-02  1.82246909e-01\n",
      "  9.46858004e-02 -2.93670744e-01  7.02135786e-02  8.20451695e-03\n",
      " -4.96097952e-02  1.51072681e-01 -1.99011117e-02  1.88752875e-01\n",
      " -1.22500800e-01 -3.83178331e-02 -2.47879177e-01  1.22512832e-01\n",
      " -4.18625355e-01 -1.16275288e-01 -9.61456224e-02 -2.48614416e-01\n",
      " -3.68594259e-01 -1.21970639e-01  9.37639251e-02  2.30518013e-01\n",
      " -6.63625589e-03  2.57349253e-01 -2.54297704e-01 -2.26456657e-01\n",
      " -1.01332538e-01  4.52186577e-02  2.75818020e-01  2.52287537e-01\n",
      " -4.13204767e-02 -3.66677970e-01 -2.10481972e-01 -3.57381731e-01\n",
      " -1.49893776e-01 -1.45323902e-01 -8.62359405e-02  2.23670036e-01\n",
      " -2.40402207e-01 -1.19757965e-01 -4.00912642e-01 -6.63116947e-02\n",
      "  2.35211521e-01  2.31039487e-02 -7.86775053e-02  1.60952657e-01\n",
      "  5.43235950e-02 -6.91673309e-02  1.61655992e-01 -3.44842346e-03\n",
      "  7.35014856e-01  2.69550115e-01 -4.23266366e-02 -9.06061456e-02\n",
      "  1.27443643e-02  9.19925719e-02  1.77457839e-01  2.32908860e-01\n",
      "  1.44778386e-01 -7.76589364e-02  2.16937765e-01 -4.01820876e-02\n",
      " -1.25217140e-01 -2.34594315e-01  2.36980125e-01  1.83041722e-01\n",
      "  5.58039881e-02  7.13727027e-02  3.46474528e-01  5.31774946e-02\n",
      "  6.92505240e-02  9.69951376e-02 -1.49080297e-02 -1.26002938e-01\n",
      " -1.18247896e-01  2.10824935e-03 -2.63296366e-01 -4.94391541e-04\n",
      " -2.15142980e-01 -7.09596798e-02  1.56710625e-01  1.75726369e-01\n",
      " -4.08554643e-01 -1.93727076e-01 -1.64112747e-01  1.54378965e-01\n",
      " -3.99313457e-02 -2.09644228e-01 -1.56444654e-01  1.81172475e-01\n",
      "  1.36889145e-01 -8.03594962e-02  2.12743312e-01 -7.63644725e-02\n",
      "  5.20845763e-02  8.37177318e-03  2.09974274e-01 -2.05358312e-01\n",
      "  5.48392653e-01 -6.00076804e-04 -1.70944501e-02 -2.59089202e-01\n",
      " -1.71755672e-01 -2.64469355e-01  1.72304571e-01  2.75779832e-02\n",
      " -2.09870830e-01  5.71157709e-02 -3.06917608e-01  4.02875066e-01\n",
      "  2.16768220e-01 -3.14099133e-01  1.81739144e-02 -3.70047316e-02\n",
      "  1.23052597e-01  7.51238912e-02  6.02519140e-03 -2.66024411e-01\n",
      " -2.21548542e-01  1.52800366e-01 -2.11345270e-01 -4.58887173e-03\n",
      "  1.63744107e-01 -3.08391362e-01  8.66548941e-02  2.19658718e-01\n",
      "  1.42509907e-01  7.08734840e-02 -1.31292954e-01 -2.62015879e-01]\n"
     ]
    }
   ],
   "source": [
    "print(X_train_vec[0])"
   ]
  },
  {
   "cell_type": "markdown",
   "id": "3d4a5157-df0d-4c92-a6fe-6a11708a7100",
   "metadata": {},
   "source": [
    "**Splitting the training samples into training and validation purpose.**"
   ]
  },
  {
   "cell_type": "code",
   "execution_count": 11,
   "id": "37b3e7f4-d58e-4592-8a0a-203c7fbbbc6b",
   "metadata": {},
   "outputs": [],
   "source": [
    "X_train_vec, X_valid_vec, y_train, y_valid = train_test_split(X_train_vec, y_train, test_size=0.1, random_state=100)"
   ]
  },
  {
   "cell_type": "markdown",
   "id": "0edb5dd3-7511-4374-a2ba-ed92bbd84b70",
   "metadata": {},
   "source": [
    "**Importing different performance metrics for Classification Models.**"
   ]
  },
  {
   "cell_type": "code",
   "execution_count": 12,
   "id": "87226619-077c-490d-8f9d-2d5273cdc089",
   "metadata": {},
   "outputs": [],
   "source": [
    "from sklearn.metrics import classification_report, confusion_matrix, ConfusionMatrixDisplay, accuracy_score"
   ]
  },
  {
   "cell_type": "markdown",
   "id": "b74df6c4-7ed6-4244-80ec-1214e1c28a13",
   "metadata": {
    "jp-MarkdownHeadingCollapsed": true,
    "tags": []
   },
   "source": [
    "### Logistic Regression"
   ]
  },
  {
   "cell_type": "code",
   "execution_count": 26,
   "id": "ee95d94f-d16e-42db-9c65-2a118afb54c8",
   "metadata": {},
   "outputs": [],
   "source": [
    "from sklearn.linear_model import LogisticRegression"
   ]
  },
  {
   "cell_type": "markdown",
   "id": "4a65192b-8a24-465a-9767-9eeacdb68a09",
   "metadata": {},
   "source": [
    "**Applying the Logistic Regression model on validation samples {max_iter=500}.**"
   ]
  },
  {
   "cell_type": "code",
   "execution_count": 33,
   "id": "09ec5fd5-4d12-405b-8382-6f604996a570",
   "metadata": {},
   "outputs": [],
   "source": [
    "first_lr = LogisticRegression(max_iter=500)\n",
    "first_lr.fit(X_train_vec, y_train)\n",
    "\n",
    "y_pred = first_lr.predict(X_valid_vec)"
   ]
  },
  {
   "cell_type": "code",
   "execution_count": 34,
   "id": "ff0c8827-f9a7-4151-8ae9-3a6efad573a4",
   "metadata": {},
   "outputs": [
    {
     "name": "stdout",
     "output_type": "stream",
     "text": [
      "Accuracy Score (%): 0.8657447421492366\n"
     ]
    }
   ],
   "source": [
    "print(f'Accuracy Score (%): {accuracy_score(y_valid, y_pred)}')"
   ]
  },
  {
   "cell_type": "markdown",
   "id": "cce0c53f-25b2-4420-acb8-3fcfa9afacc5",
   "metadata": {},
   "source": [
    "**Applying the Logistic Regression model on validation samples {max_iter=1000}.**"
   ]
  },
  {
   "cell_type": "code",
   "execution_count": 35,
   "id": "4fcf8d1f-0e4c-46c5-91b5-defaf7f8418e",
   "metadata": {},
   "outputs": [],
   "source": [
    "second_lr = LogisticRegression(max_iter=1000)\n",
    "second_lr.fit(X_train_vec, y_train)\n",
    "\n",
    "y_pred = second_lr.predict(X_valid_vec)"
   ]
  },
  {
   "cell_type": "code",
   "execution_count": 36,
   "id": "ceab5f69-7dbd-4b74-8c1d-c291e5913377",
   "metadata": {},
   "outputs": [
    {
     "name": "stdout",
     "output_type": "stream",
     "text": [
      "Accuracy Score (%): 0.8657447421492366\n"
     ]
    }
   ],
   "source": [
    "print(f'Accuracy Score (%): {accuracy_score(y_valid, y_pred)}')"
   ]
  },
  {
   "cell_type": "markdown",
   "id": "c2fa1ae3-4ee7-422c-9d73-227a8bcf9c25",
   "metadata": {},
   "source": [
    "**Applying the first model on testing samples.**"
   ]
  },
  {
   "cell_type": "code",
   "execution_count": 38,
   "id": "81226dfa-2401-4a35-83c0-5d12cee8f73d",
   "metadata": {},
   "outputs": [],
   "source": [
    "y_pred = first_lr.predict(X_test_vec)"
   ]
  },
  {
   "cell_type": "code",
   "execution_count": 39,
   "id": "ca2865d3-7b30-4e9a-aaac-24840da4079d",
   "metadata": {},
   "outputs": [
    {
     "name": "stdout",
     "output_type": "stream",
     "text": [
      "              precision    recall  f1-score   support\n",
      "\n",
      "           0       0.86      0.85      0.86      7432\n",
      "           1       0.85      0.86      0.86      7443\n",
      "\n",
      "    accuracy                           0.86     14875\n",
      "   macro avg       0.86      0.86      0.86     14875\n",
      "weighted avg       0.86      0.86      0.86     14875\n",
      "\n"
     ]
    }
   ],
   "source": [
    "print(classification_report(y_test, y_pred))"
   ]
  },
  {
   "cell_type": "code",
   "execution_count": 40,
   "id": "14b85289-24e5-4814-a5b4-c4a186f56d9b",
   "metadata": {},
   "outputs": [
    {
     "data": {
      "image/png": "[encoded data removed]",
      "text/plain": [
       "<Figure size 432x288 with 2 Axes>"
      ]
     },
     "metadata": {
      "needs_background": "light"
     },
     "output_type": "display_data"
    }
   ],
   "source": [
    "conf_matrix = confusion_matrix(y_test, y_pred)\n",
    "disp = ConfusionMatrixDisplay(conf_matrix)\n",
    "\n",
    "disp.plot()\n",
    "plt.show()"
   ]
  },
  {
   "cell_type": "code",
   "execution_count": 41,
   "id": "bba427d9-b6bf-4cfb-83a3-9f4e8c0d6fc6",
   "metadata": {},
   "outputs": [
    {
     "name": "stdout",
     "output_type": "stream",
     "text": [
      "Accuracy Score (%): 0.8573445378151261\n"
     ]
    }
   ],
   "source": [
    "print(f'Accuracy Score (%): {accuracy_score(y_test, y_pred)}')"
   ]
  },
  {
   "cell_type": "markdown",
   "id": "2e119e56-435c-4511-8c49-2e573f86bb8e",
   "metadata": {
    "jp-MarkdownHeadingCollapsed": true,
    "tags": []
   },
   "source": [
    "### Support Vector Machine"
   ]
  },
  {
   "cell_type": "code",
   "execution_count": 43,
   "id": "b8442ca9-db73-465a-9606-759be469e4da",
   "metadata": {},
   "outputs": [],
   "source": [
    "from sklearn.svm import SVC"
   ]
  },
  {
   "cell_type": "markdown",
   "id": "bc831d33-abd3-4d61-931a-dec6f8f4ddd2",
   "metadata": {},
   "source": [
    "**Applying the Support Vector model on validation samples {kernel=linear}.**"
   ]
  },
  {
   "cell_type": "code",
   "execution_count": 44,
   "id": "6960ad93-0cc2-42e6-a65b-83ee3ce7e73e",
   "metadata": {
    "tags": []
   },
   "outputs": [],
   "source": [
    "first_sv = SVC(kernel='linear')\n",
    "first_sv.fit(X_train_vec, y_train)\n",
    "\n",
    "y_pred = first_sv.predict(X_valid_vec)"
   ]
  },
  {
   "cell_type": "code",
   "execution_count": 45,
   "id": "cf6172be-e275-43d9-ad17-1db566721706",
   "metadata": {},
   "outputs": [
    {
     "name": "stdout",
     "output_type": "stream",
     "text": [
      "Accuracy Score (%): 0.8657447421492366\n"
     ]
    }
   ],
   "source": [
    "print(f'Accuracy Score (%): {accuracy_score(y_valid, y_pred)}')"
   ]
  },
  {
   "cell_type": "markdown",
   "id": "1cfb6171-227c-45b9-b0c3-bd89ddcecc8c",
   "metadata": {},
   "source": [
    "**Applying the Support Vector model on validation samples {kernel='poly', degree=2}.**"
   ]
  },
  {
   "cell_type": "code",
   "execution_count": 46,
   "id": "6ec66ffa-a306-478a-90bf-0fb7997d82c2",
   "metadata": {
    "tags": []
   },
   "outputs": [],
   "source": [
    "second_sv = SVC(kernel='poly', degree=2)\n",
    "second_sv.fit(X_train_vec, y_train)\n",
    "\n",
    "y_pred = second_sv.predict(X_valid_vec)"
   ]
  },
  {
   "cell_type": "code",
   "execution_count": 47,
   "id": "6cdfb50f-a21f-4f8a-bbfc-dc3d1f184443",
   "metadata": {},
   "outputs": [
    {
     "name": "stdout",
     "output_type": "stream",
     "text": [
      "Accuracy Score (%): 0.8631518294439643\n"
     ]
    }
   ],
   "source": [
    "print(f'Accuracy Score (%): {accuracy_score(y_valid, y_pred)}')"
   ]
  },
  {
   "cell_type": "markdown",
   "id": "b5ddf72c-ec19-4094-8ede-9a68bbc15655",
   "metadata": {},
   "source": [
    "**Applying the Support Vector model on validation samples {kernel='poly', degree=3}.**"
   ]
  },
  {
   "cell_type": "code",
   "execution_count": 52,
   "id": "3df7e504-4eb6-40c2-80bc-1aeee78d9fd2",
   "metadata": {},
   "outputs": [],
   "source": [
    "third_sv = SVC(kernel='poly', degree=3)\n",
    "third_sv.fit(X_train_vec, y_train)\n",
    "\n",
    "y_pred = third_sv.predict(X_valid_vec)"
   ]
  },
  {
   "cell_type": "code",
   "execution_count": 53,
   "id": "cf5f8fcf-fbc0-4dcf-82ef-7b1380e7e294",
   "metadata": {},
   "outputs": [
    {
     "name": "stdout",
     "output_type": "stream",
     "text": [
      "Accuracy Score (%): 0.8625756266205704\n"
     ]
    }
   ],
   "source": [
    "print(f'Accuracy Score (%): {accuracy_score(y_valid, y_pred)}')"
   ]
  },
  {
   "cell_type": "markdown",
   "id": "e6e3943f-281c-4756-93ac-29e9188a0805",
   "metadata": {},
   "source": [
    "**Applying the Support Vector model on validation samples {kernel='rbf', gamma=0.1}.**"
   ]
  },
  {
   "cell_type": "code",
   "execution_count": 54,
   "id": "45e138ac-55de-4b5c-b318-e50449411e3b",
   "metadata": {},
   "outputs": [],
   "source": [
    "fourth_sv = SVC(kernel='rbf', gamma=0.1)\n",
    "fourth_sv.fit(X_train_vec, y_train)\n",
    "\n",
    "y_pred = fourth_sv.predict(X_valid_vec)"
   ]
  },
  {
   "cell_type": "code",
   "execution_count": 55,
   "id": "7d5c1163-661e-4057-9b23-4712a3476388",
   "metadata": {},
   "outputs": [
    {
     "name": "stdout",
     "output_type": "stream",
     "text": [
      "Accuracy Score (%): 0.8666090463843272\n"
     ]
    }
   ],
   "source": [
    "print(f'Accuracy Score (%): {accuracy_score(y_valid, y_pred)}')"
   ]
  },
  {
   "cell_type": "markdown",
   "id": "d95d6ae2-3090-43a9-a8e3-5d8f615f96f9",
   "metadata": {},
   "source": [
    "**Applying the Support Vector model on validation samples {kernel='rbf', gamma=0.4}.**"
   ]
  },
  {
   "cell_type": "code",
   "execution_count": 58,
   "id": "c004dade-1be3-4859-b3d4-85cb1deb4b48",
   "metadata": {},
   "outputs": [],
   "source": [
    "fifth_sv = SVC(kernel='rbf', gamma=0.4)\n",
    "fifth_sv.fit(X_train_vec, y_train)\n",
    "\n",
    "y_pred = fifth_sv.predict(X_valid_vec)"
   ]
  },
  {
   "cell_type": "code",
   "execution_count": 59,
   "id": "81bd2ce3-0aea-4322-8610-ba5b8eb3715e",
   "metadata": {},
   "outputs": [
    {
     "name": "stdout",
     "output_type": "stream",
     "text": [
      "Accuracy Score (%): 0.8738115816767502\n"
     ]
    }
   ],
   "source": [
    "print(f'Accuracy Score (%): {accuracy_score(y_valid, y_pred)}')"
   ]
  },
  {
   "cell_type": "markdown",
   "id": "01435bc7-9abd-44f5-a6ce-769f1e56385b",
   "metadata": {},
   "source": [
    "**Applying the Support Vector model on validation samples {kernel='rbf', gamma=1}.**"
   ]
  },
  {
   "cell_type": "code",
   "execution_count": 60,
   "id": "71934c1c-cd8e-45dc-a900-69f4f02651f4",
   "metadata": {},
   "outputs": [],
   "source": [
    "sixth_sv = SVC(kernel='rbf', gamma=1)\n",
    "sixth_sv.fit(X_train_vec, y_train)\n",
    "\n",
    "y_pred = sixth_sv.predict(X_valid_vec)"
   ]
  },
  {
   "cell_type": "code",
   "execution_count": 61,
   "id": "16a15009-6535-4edf-95d4-fcfc933798e8",
   "metadata": {},
   "outputs": [
    {
     "name": "stdout",
     "output_type": "stream",
     "text": [
      "Accuracy Score (%): 0.864016133679055\n"
     ]
    }
   ],
   "source": [
    "print(f'Accuracy Score (%): {accuracy_score(y_valid, y_pred)}')"
   ]
  },
  {
   "cell_type": "markdown",
   "id": "6e3ad101-7eb6-4ac0-a043-ac0c767a4958",
   "metadata": {},
   "source": [
    "**Applying the fifth model on testing samples.**"
   ]
  },
  {
   "cell_type": "code",
   "execution_count": 62,
   "id": "a9c73af2-4c1d-4e04-913f-29689a700c26",
   "metadata": {},
   "outputs": [],
   "source": [
    "y_pred = fifth_sv.predict(X_test_vec)"
   ]
  },
  {
   "cell_type": "code",
   "execution_count": 63,
   "id": "df50aa3d-60ba-4563-b7e7-83e177db2eb3",
   "metadata": {},
   "outputs": [
    {
     "name": "stdout",
     "output_type": "stream",
     "text": [
      "              precision    recall  f1-score   support\n",
      "\n",
      "           0       0.87      0.85      0.86      7432\n",
      "           1       0.86      0.87      0.86      7443\n",
      "\n",
      "    accuracy                           0.86     14875\n",
      "   macro avg       0.86      0.86      0.86     14875\n",
      "weighted avg       0.86      0.86      0.86     14875\n",
      "\n"
     ]
    }
   ],
   "source": [
    "print(classification_report(y_test, y_pred))"
   ]
  },
  {
   "cell_type": "code",
   "execution_count": 64,
   "id": "572e5bde-798f-48e7-82a4-8d8b4d1339fe",
   "metadata": {},
   "outputs": [
    {
     "data": {
      "image/png": "[encoded data removed]",
      "text/plain": [
       "<Figure size 432x288 with 2 Axes>"
      ]
     },
     "metadata": {
      "needs_background": "light"
     },
     "output_type": "display_data"
    }
   ],
   "source": [
    "conf_matrix = confusion_matrix(y_test, y_pred)\n",
    "disp = ConfusionMatrixDisplay(conf_matrix)\n",
    "\n",
    "disp.plot()\n",
    "plt.show()"
   ]
  },
  {
   "cell_type": "code",
   "execution_count": 65,
   "id": "7498bc66-5481-40eb-9352-1257a9344fda",
   "metadata": {},
   "outputs": [
    {
     "name": "stdout",
     "output_type": "stream",
     "text": [
      "Accuracy Score (%): 0.8629915966386554\n"
     ]
    }
   ],
   "source": [
    "print(f'Accuracy Score (%): {accuracy_score(y_test, y_pred)}')"
   ]
  },
  {
   "cell_type": "markdown",
   "id": "3fda9700-316c-4f91-b772-17549c6e2a8b",
   "metadata": {
    "jp-MarkdownHeadingCollapsed": true,
    "tags": []
   },
   "source": [
    "### K-Nearest Neighbors"
   ]
  },
  {
   "cell_type": "code",
   "execution_count": 66,
   "id": "28ea541d-96c3-4969-ba19-c1917a71df86",
   "metadata": {},
   "outputs": [],
   "source": [
    "from sklearn.neighbors import KNeighborsClassifier"
   ]
  },
  {
   "cell_type": "markdown",
   "id": "a7694410-0a0e-46b8-bbf9-8d0f99e997ce",
   "metadata": {},
   "source": [
    "Using distance metric as 'cosine similarity' as we're dealing with vectors."
   ]
  },
  {
   "cell_type": "markdown",
   "id": "92171d51-5963-4413-90fd-f11ef4d97d1e",
   "metadata": {},
   "source": [
    "**Applying KNN Classifier on validation samples {n_neighbors=10}.**"
   ]
  },
  {
   "cell_type": "code",
   "execution_count": 67,
   "id": "6e220227-b4cf-4940-b7ef-3b945bb92ac5",
   "metadata": {},
   "outputs": [],
   "source": [
    "first_knc = KNeighborsClassifier(n_neighbors=10, metric='cosine')\n",
    "first_knc.fit(X_train_vec, y_train)\n",
    "\n",
    "y_pred = first_knc.predict(X_valid_vec)"
   ]
  },
  {
   "cell_type": "code",
   "execution_count": 68,
   "id": "65752beb-3481-4aff-bb82-2b31e60a24b3",
   "metadata": {
    "tags": []
   },
   "outputs": [
    {
     "name": "stdout",
     "output_type": "stream",
     "text": [
      "Accuracy Score (%): 0.7994814174589455\n"
     ]
    }
   ],
   "source": [
    "print(f'Accuracy Score (%): {accuracy_score(y_valid, y_pred)}')"
   ]
  },
  {
   "cell_type": "markdown",
   "id": "4331cdbd-97ef-49fa-b85f-43dba9c0888e",
   "metadata": {},
   "source": [
    "**Applying KNN Classifier on validation samples {n_neighbors=13}.**"
   ]
  },
  {
   "cell_type": "code",
   "execution_count": 69,
   "id": "9219966e-3198-4265-80b8-7b64bd05ee9b",
   "metadata": {},
   "outputs": [],
   "source": [
    "second_knc = KNeighborsClassifier(n_neighbors=13, metric='cosine')\n",
    "second_knc.fit(X_train_vec, y_train)\n",
    "\n",
    "y_pred = second_knc.predict(X_valid_vec)"
   ]
  },
  {
   "cell_type": "code",
   "execution_count": 70,
   "id": "ad1b204e-c792-40ad-aec4-fc3edfa1f52a",
   "metadata": {},
   "outputs": [
    {
     "name": "stdout",
     "output_type": "stream",
     "text": [
      "Accuracy Score (%): 0.8092768654566408\n"
     ]
    }
   ],
   "source": [
    "print(f'Accuracy Score (%): {accuracy_score(y_valid, y_pred)}')"
   ]
  },
  {
   "cell_type": "markdown",
   "id": "2bc63429-459f-4a44-95ff-c6452a95674a",
   "metadata": {},
   "source": [
    "**Applying KNN Classifier on validation samples {n_neighbors=15}.**"
   ]
  },
  {
   "cell_type": "code",
   "execution_count": 71,
   "id": "862e9625-d3a6-44cd-9aae-a4d43244f66d",
   "metadata": {},
   "outputs": [],
   "source": [
    "third_knc = KNeighborsClassifier(n_neighbors=15, metric='cosine')\n",
    "third_knc.fit(X_train_vec, y_train)\n",
    "\n",
    "y_pred = third_knc.predict(X_valid_vec)"
   ]
  },
  {
   "cell_type": "code",
   "execution_count": 72,
   "id": "773a22bf-e8da-4ef6-b675-69b05073ac81",
   "metadata": {},
   "outputs": [
    {
     "name": "stdout",
     "output_type": "stream",
     "text": [
      "Accuracy Score (%): 0.8124459809853068\n"
     ]
    }
   ],
   "source": [
    "print(f'Accuracy Score (%): {accuracy_score(y_valid, y_pred)}')"
   ]
  },
  {
   "cell_type": "markdown",
   "id": "61bb61cd-862c-4143-b7ad-c706705ec330",
   "metadata": {},
   "source": [
    "**Applying KNN Classifier on validation samples {n_neighbors=18}.**"
   ]
  },
  {
   "cell_type": "code",
   "execution_count": 75,
   "id": "5ba5f950-7466-4f23-9f7b-057bde985a30",
   "metadata": {},
   "outputs": [],
   "source": [
    "fourth_knc = KNeighborsClassifier(n_neighbors=18, metric='cosine')\n",
    "fourth_knc.fit(X_train_vec, y_train)\n",
    "\n",
    "y_pred = fourth_knc.predict(X_valid_vec)"
   ]
  },
  {
   "cell_type": "code",
   "execution_count": 76,
   "id": "e29c4f48-f17b-488c-bb2a-8747c9785f38",
   "metadata": {},
   "outputs": [
    {
     "name": "stdout",
     "output_type": "stream",
     "text": [
      "Accuracy Score (%): 0.8043791414577931\n"
     ]
    }
   ],
   "source": [
    "print(f'Accuracy Score (%): {accuracy_score(y_valid, y_pred)}')"
   ]
  },
  {
   "cell_type": "markdown",
   "id": "7f00180d-da69-4491-a87d-e3c7e3fe7c68",
   "metadata": {},
   "source": [
    "**Applying third KNN model on testing samples.**"
   ]
  },
  {
   "cell_type": "code",
   "execution_count": 77,
   "id": "b84e48cd-7201-4e81-aadf-02f2117ef94b",
   "metadata": {},
   "outputs": [],
   "source": [
    "y_pred = third_knc.predict(X_test_vec)"
   ]
  },
  {
   "cell_type": "code",
   "execution_count": 78,
   "id": "f56d6ed2-cfc5-41ee-a971-a83e8499e293",
   "metadata": {},
   "outputs": [
    {
     "name": "stdout",
     "output_type": "stream",
     "text": [
      "              precision    recall  f1-score   support\n",
      "\n",
      "           0       0.80      0.83      0.82      7432\n",
      "           1       0.83      0.79      0.81      7443\n",
      "\n",
      "    accuracy                           0.81     14875\n",
      "   macro avg       0.81      0.81      0.81     14875\n",
      "weighted avg       0.81      0.81      0.81     14875\n",
      "\n"
     ]
    }
   ],
   "source": [
    "print(classification_report(y_test, y_pred))"
   ]
  },
  {
   "cell_type": "code",
   "execution_count": 79,
   "id": "86a9f72b-620b-4406-ae0a-76deaceb81e9",
   "metadata": {},
   "outputs": [
    {
     "data": {
      "image/png": "[encoded data removed]",
      "text/plain": [
       "<Figure size 432x288 with 2 Axes>"
      ]
     },
     "metadata": {
      "needs_background": "light"
     },
     "output_type": "display_data"
    }
   ],
   "source": [
    "conf_matrix = confusion_matrix(y_test, y_pred)\n",
    "disp = ConfusionMatrixDisplay(conf_matrix)\n",
    "\n",
    "disp.plot()\n",
    "plt.show()"
   ]
  },
  {
   "cell_type": "code",
   "execution_count": 80,
   "id": "ea81d71f-cd5f-4669-8f34-019b6a5d06b9",
   "metadata": {},
   "outputs": [
    {
     "name": "stdout",
     "output_type": "stream",
     "text": [
      "Accuracy Score (%): 0.8109579831932773\n"
     ]
    }
   ],
   "source": [
    "print(f'Accuracy Score (%): {accuracy_score(y_test, y_pred)}')"
   ]
  },
  {
   "cell_type": "markdown",
   "id": "cb6cb95d-8236-42dc-ac70-3f0c76b650a8",
   "metadata": {},
   "source": [
    "### Decision Tree Classifier"
   ]
  },
  {
   "cell_type": "code",
   "execution_count": 13,
   "id": "f6751cf4-c0cb-4964-94bd-5d3739bbc981",
   "metadata": {},
   "outputs": [],
   "source": [
    "from sklearn.tree import DecisionTreeClassifier\n",
    "from sklearn import tree"
   ]
  },
  {
   "cell_type": "code",
   "execution_count": 14,
   "id": "4eb9c0c7-4e2c-4b75-8d88-3a73ca915960",
   "metadata": {},
   "outputs": [],
   "source": [
    "dtc = DecisionTreeClassifier()\n",
    "dtc.fit(X_train_vec, y_train)\n",
    "\n",
    "y_pred = dtc.predict(X_test_vec)"
   ]
  },
  {
   "cell_type": "markdown",
   "id": "b2525c2c-c318-49b4-a3e1-d2ed4134eaf3",
   "metadata": {},
   "source": [
    "**Max Depth of the tree**"
   ]
  },
  {
   "cell_type": "code",
   "execution_count": 15,
   "id": "3cd13ad2-1dd4-4e24-8d9a-d12fef90b22f",
   "metadata": {},
   "outputs": [
    {
     "name": "stdout",
     "output_type": "stream",
     "text": [
      "42\n"
     ]
    }
   ],
   "source": [
    "print(dtc.tree_.max_depth)"
   ]
  },
  {
   "cell_type": "markdown",
   "id": "826c2e36-841f-43c2-a673-1668aa4049f3",
   "metadata": {},
   "source": [
    "**Classification Report**"
   ]
  },
  {
   "cell_type": "code",
   "execution_count": 83,
   "id": "ada00488-6d80-42d2-afb0-45e68ebbebbb",
   "metadata": {},
   "outputs": [
    {
     "name": "stdout",
     "output_type": "stream",
     "text": [
      "              precision    recall  f1-score   support\n",
      "\n",
      "           0       0.72      0.72      0.72      7432\n",
      "           1       0.72      0.71      0.72      7443\n",
      "\n",
      "    accuracy                           0.72     14875\n",
      "   macro avg       0.72      0.72      0.72     14875\n",
      "weighted avg       0.72      0.72      0.72     14875\n",
      "\n"
     ]
    }
   ],
   "source": [
    "print(classification_report(y_test, y_pred))"
   ]
  },
  {
   "cell_type": "markdown",
   "id": "8f906f64-1e82-40b2-8100-f56b33ab7495",
   "metadata": {},
   "source": [
    "**Confusion Matrix**"
   ]
  },
  {
   "cell_type": "code",
   "execution_count": 84,
   "id": "95452f7a-a734-4cbc-88ec-22283a63c54c",
   "metadata": {},
   "outputs": [
    {
     "data": {
      "image/png": "[encoded data removed]",
      "text/plain": [
       "<Figure size 432x288 with 2 Axes>"
      ]
     },
     "metadata": {
      "needs_background": "light"
     },
     "output_type": "display_data"
    }
   ],
   "source": [
    "conf_matrix = confusion_matrix(y_test, y_pred)\n",
    "disp = ConfusionMatrixDisplay(conf_matrix)\n",
    "\n",
    "disp.plot()\n",
    "plt.show()"
   ]
  },
  {
   "cell_type": "markdown",
   "id": "8c1555f3-7b68-4940-a02e-44cf9c483308",
   "metadata": {},
   "source": [
    "**Accuracy Score**"
   ]
  },
  {
   "cell_type": "code",
   "execution_count": 85,
   "id": "03b8d01f-da07-4e3c-8e39-4d976ad8e695",
   "metadata": {},
   "outputs": [
    {
     "name": "stdout",
     "output_type": "stream",
     "text": [
      "Accuracy Score (%): 0.7183193277310924\n"
     ]
    }
   ],
   "source": [
    "print(f'Accuracy Score (%): {accuracy_score(y_test, y_pred)}')"
   ]
  }
 ],
 "metadata": {
  "kernelspec": {
   "display_name": "Python 3 (ipykernel)",
   "language": "python",
   "name": "python3"
  },
  "language_info": {
   "codemirror_mode": {
    "name": "ipython",
    "version": 3
   },
   "file_extension": ".py",
   "mimetype": "text/x-python",
   "name": "python",
   "nbconvert_exporter": "python",
   "pygments_lexer": "ipython3",
   "version": "3.9.7"
  }
 },
 "nbformat": 4,
 "nbformat_minor": 5
}
